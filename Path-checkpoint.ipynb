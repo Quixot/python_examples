{
 "cells": [
  {
   "cell_type": "code",
   "execution_count": 1,
   "id": "02153d04",
   "metadata": {},
   "outputs": [],
   "source": [
    "import pathlib"
   ]
  },
  {
   "cell_type": "code",
   "execution_count": 9,
   "id": "af533ac1",
   "metadata": {},
   "outputs": [
    {
     "data": {
      "text/plain": [
       "WindowsPath('C:/Users/Alex')"
      ]
     },
     "execution_count": 9,
     "metadata": {},
     "output_type": "execute_result"
    }
   ],
   "source": [
    "pathlib.Path.home()"
   ]
  },
  {
   "cell_type": "markdown",
   "id": "fa6b3998",
   "metadata": {},
   "source": [
    "current working directory"
   ]
  },
  {
   "cell_type": "code",
   "execution_count": 4,
   "id": "afc0170b",
   "metadata": {},
   "outputs": [
    {
     "data": {
      "text/plain": [
       "WindowsPath('C:/Users/Alex')"
      ]
     },
     "execution_count": 4,
     "metadata": {},
     "output_type": "execute_result"
    }
   ],
   "source": [
    "pathlib.Path.cwd()"
   ]
  },
  {
   "cell_type": "markdown",
   "id": "061aefa1",
   "metadata": {},
   "source": [
    "r - ignore all escapes in string"
   ]
  },
  {
   "cell_type": "code",
   "execution_count": 17,
   "id": "d26554d0",
   "metadata": {},
   "outputs": [
    {
     "name": "stdout",
     "output_type": "stream",
     "text": [
      "Hello\n",
      "World!\n"
     ]
    }
   ],
   "source": [
    "print(\"Hello\\nWorld!\")"
   ]
  },
  {
   "cell_type": "code",
   "execution_count": 16,
   "id": "b28cfe5f",
   "metadata": {},
   "outputs": [
    {
     "name": "stdout",
     "output_type": "stream",
     "text": [
      "Hello\\nWorld!\n"
     ]
    }
   ],
   "source": [
    "print(r\"Hello\\nWorld!\")"
   ]
  },
  {
   "cell_type": "code",
   "execution_count": 8,
   "id": "b49a7114",
   "metadata": {},
   "outputs": [
    {
     "data": {
      "text/plain": [
       "WindowsPath('C:/Users/Alex/Desktop/Courses/Python/libs/tests')"
      ]
     },
     "execution_count": 8,
     "metadata": {},
     "output_type": "execute_result"
    }
   ],
   "source": [
    "pathlib.Path(r\"C:\\Users\\Alex\\Desktop\\Courses\\Python\\libs\\tests\")"
   ]
  },
  {
   "cell_type": "code",
   "execution_count": 78,
   "id": "8a056da5",
   "metadata": {},
   "outputs": [
    {
     "data": {
      "text/plain": [
       "WindowsPath('C:/Users/Alex/Desktop/Courses/Python/libs/tests/1.txt')"
      ]
     },
     "execution_count": 78,
     "metadata": {},
     "output_type": "execute_result"
    }
   ],
   "source": [
    "pathlib.Path.cwd() / \"tests\" / \"1.txt\""
   ]
  },
  {
   "cell_type": "code",
   "execution_count": 23,
   "id": "ea9d2fdf",
   "metadata": {},
   "outputs": [
    {
     "name": "stdout",
     "output_type": "stream",
     "text": [
      "True\n",
      "False\n"
     ]
    }
   ],
   "source": [
    "path = pathlib.Path.cwd() / \"tests\" / \"1.txt\"\n",
    "print(path.is_absolute())\n",
    "path = pathlib.Path(\"tesets/1.txt\")\n",
    "print(path.is_absolute())"
   ]
  },
  {
   "cell_type": "markdown",
   "id": "ad191a68",
   "metadata": {},
   "source": [
    "#### Accessing File Path Components"
   ]
  },
  {
   "cell_type": "code",
   "execution_count": 82,
   "id": "5045904b",
   "metadata": {},
   "outputs": [],
   "source": [
    "path = pathlib.Path.cwd() / \"Desktop\" / \"Courses\" / \"Python\" / \"libs\" / \"tests\" / \"1.txt\""
   ]
  },
  {
   "cell_type": "code",
   "execution_count": 55,
   "id": "b26b03f1",
   "metadata": {},
   "outputs": [
    {
     "data": {
      "text/plain": [
       "[WindowsPath('C:/Users/Alex/tests'),\n",
       " WindowsPath('C:/Users/Alex'),\n",
       " WindowsPath('C:/Users'),\n",
       " WindowsPath('C:/')]"
      ]
     },
     "execution_count": 55,
     "metadata": {},
     "output_type": "execute_result"
    }
   ],
   "source": [
    "list(path.parents)"
   ]
  },
  {
   "cell_type": "code",
   "execution_count": 60,
   "id": "581ffd02",
   "metadata": {},
   "outputs": [
    {
     "data": {
      "text/plain": [
       "WindowsPath('C:/Users/Alex/tests')"
      ]
     },
     "execution_count": 60,
     "metadata": {},
     "output_type": "execute_result"
    }
   ],
   "source": [
    "t = (x for x in path.parents)\n",
    "next(t)"
   ]
  },
  {
   "cell_type": "markdown",
   "id": "72e3809a",
   "metadata": {},
   "source": [
    "root directory"
   ]
  },
  {
   "cell_type": "code",
   "execution_count": 61,
   "id": "c4b2c488",
   "metadata": {},
   "outputs": [
    {
     "data": {
      "text/plain": [
       "'C:\\\\'"
      ]
     },
     "execution_count": 61,
     "metadata": {},
     "output_type": "execute_result"
    }
   ],
   "source": [
    "# get root\n",
    "path.anchor"
   ]
  },
  {
   "cell_type": "code",
   "execution_count": 63,
   "id": "52a463c6",
   "metadata": {},
   "outputs": [
    {
     "data": {
      "text/plain": [
       "WindowsPath('C:/Users/Alex/tests')"
      ]
     },
     "execution_count": 63,
     "metadata": {},
     "output_type": "execute_result"
    }
   ],
   "source": [
    "# get parent\n",
    "path.parent"
   ]
  },
  {
   "cell_type": "code",
   "execution_count": 66,
   "id": "873a22c2",
   "metadata": {},
   "outputs": [
    {
     "data": {
      "text/plain": [
       "WindowsPath('C:/Users')"
      ]
     },
     "execution_count": 66,
     "metadata": {},
     "output_type": "execute_result"
    }
   ],
   "source": [
    "# functional style\n",
    "path.parent.parent.parent"
   ]
  },
  {
   "cell_type": "code",
   "execution_count": 71,
   "id": "9e611ef2",
   "metadata": {},
   "outputs": [
    {
     "data": {
      "text/plain": [
       "'1.txt'"
      ]
     },
     "execution_count": 71,
     "metadata": {},
     "output_type": "execute_result"
    }
   ],
   "source": [
    "#  the name of the file or directory that the path points to\n",
    "path.name"
   ]
  },
  {
   "cell_type": "code",
   "execution_count": 74,
   "id": "988cef3e",
   "metadata": {},
   "outputs": [
    {
     "name": "stdout",
     "output_type": "stream",
     "text": [
      "1\n",
      ".txt\n"
     ]
    }
   ],
   "source": [
    "print(path.stem)\n",
    "print(path.suffix)"
   ]
  },
  {
   "cell_type": "markdown",
   "id": "50cfd6ef",
   "metadata": {},
   "source": [
    "#### Checking Whether Or Not a File Path Exists"
   ]
  },
  {
   "cell_type": "code",
   "execution_count": 85,
   "id": "91918c17",
   "metadata": {},
   "outputs": [
    {
     "name": "stdout",
     "output_type": "stream",
     "text": [
      "C:\\Users\\Alex\\Desktop\\Courses\\Python\\libs\\tests\\1.txt\n"
     ]
    },
    {
     "data": {
      "text/plain": [
       "True"
      ]
     },
     "execution_count": 85,
     "metadata": {},
     "output_type": "execute_result"
    }
   ],
   "source": [
    "print(path)\n",
    "path.exists()"
   ]
  },
  {
   "cell_type": "code",
   "execution_count": 87,
   "id": "0a88df86",
   "metadata": {},
   "outputs": [
    {
     "data": {
      "text/plain": [
       "True"
      ]
     },
     "execution_count": 87,
     "metadata": {},
     "output_type": "execute_result"
    }
   ],
   "source": [
    "path.is_file()"
   ]
  },
  {
   "cell_type": "code",
   "execution_count": 88,
   "id": "4d7e68e9",
   "metadata": {},
   "outputs": [
    {
     "data": {
      "text/plain": [
       "False"
      ]
     },
     "execution_count": 88,
     "metadata": {},
     "output_type": "execute_result"
    }
   ],
   "source": [
    "path.is_dir()"
   ]
  },
  {
   "cell_type": "markdown",
   "id": "5a5b6ef5",
   "metadata": {},
   "source": [
    "#### Creating Directories and Files"
   ]
  },
  {
   "cell_type": "code",
   "execution_count": 95,
   "id": "d6719953",
   "metadata": {},
   "outputs": [],
   "source": [
    "from pathlib import Path\n",
    "\n",
    "new_dir = pathlib.Path.cwd() / r\"Desktop\\Courses\\Python\\libs\\tests\\new_directory\"\n",
    "new_dir.mkdir(exist_ok=True)"
   ]
  },
  {
   "cell_type": "code",
   "execution_count": 97,
   "id": "f3e9b9cf",
   "metadata": {},
   "outputs": [],
   "source": [
    "# create parents directories too\n",
    "new_dir_with_parents = pathlib.Path.cwd() / r\"Desktop\\Courses\\Python\\libs\\tests\\new_directory\" / \"1\" / \"2\" / \"3\"\n",
    "new_dir_with_parents.mkdir(exist_ok=True, parents=True)"
   ]
  },
  {
   "cell_type": "code",
   "execution_count": 101,
   "id": "05516212",
   "metadata": {},
   "outputs": [],
   "source": [
    "my_file = new_dir_with_parents / \"1.txt\"\n",
    "my_file.touch()"
   ]
  },
  {
   "cell_type": "code",
   "execution_count": 105,
   "id": "be1cf9dc",
   "metadata": {},
   "outputs": [
    {
     "data": {
      "text/plain": [
       "[WindowsPath('C:/Users/Alex/Desktop/Courses/Python/libs/tests/1.txt'),\n",
       " WindowsPath('C:/Users/Alex/Desktop/Courses/Python/libs/tests/new_directory')]"
      ]
     },
     "execution_count": 105,
     "metadata": {},
     "output_type": "execute_result"
    }
   ],
   "source": [
    "list(path.parent.iterdir())"
   ]
  },
  {
   "cell_type": "markdown",
   "id": "b29f45b0",
   "metadata": {},
   "source": [
    "#### Searching For Files In a Directory"
   ]
  },
  {
   "cell_type": "code",
   "execution_count": 124,
   "id": "43f66f23",
   "metadata": {},
   "outputs": [
    {
     "data": {
      "text/plain": [
       "[WindowsPath('C:/Users/Alex/Desktop/Courses/Python/libs/tests/1.txt')]"
      ]
     },
     "execution_count": 124,
     "metadata": {},
     "output_type": "execute_result"
    }
   ],
   "source": [
    "list(path.parent.glob(\"*.txt\"))"
   ]
  },
  {
   "cell_type": "code",
   "execution_count": 125,
   "id": "10a456a5",
   "metadata": {},
   "outputs": [
    {
     "data": {
      "text/plain": [
       "[WindowsPath('C:/Users/Alex/Desktop/Courses/Python/libs/tests/1.txt')]"
      ]
     },
     "execution_count": 125,
     "metadata": {},
     "output_type": "execute_result"
    }
   ],
   "source": [
    "list(path.parent.glob(\"*1*\"))"
   ]
  },
  {
   "cell_type": "code",
   "execution_count": 127,
   "id": "49957e21",
   "metadata": {},
   "outputs": [
    {
     "data": {
      "text/plain": [
       "[WindowsPath('C:/Users/Alex/Desktop/Courses/Python/libs/tests/1.txt')]"
      ]
     },
     "execution_count": 127,
     "metadata": {},
     "output_type": "execute_result"
    }
   ],
   "source": [
    "list(path.parent.glob(\"?.txt\"))"
   ]
  },
  {
   "cell_type": "code",
   "execution_count": 129,
   "id": "0db2deaf",
   "metadata": {},
   "outputs": [
    {
     "data": {
      "text/plain": [
       "[WindowsPath('C:/Users/Alex/Desktop/Courses/Python/libs/tests/1.txt')]"
      ]
     },
     "execution_count": 129,
     "metadata": {},
     "output_type": "execute_result"
    }
   ],
   "source": [
    "list(path.parent.glob(\"*.t??\"))"
   ]
  },
  {
   "cell_type": "code",
   "execution_count": 130,
   "id": "2611cc80",
   "metadata": {},
   "outputs": [
    {
     "data": {
      "text/plain": [
       "[WindowsPath('C:/Users/Alex/Desktop/Courses/Python/libs/tests/1.txt')]"
      ]
     },
     "execution_count": 130,
     "metadata": {},
     "output_type": "execute_result"
    }
   ],
   "source": [
    "# any of 1 or 2 or 3\n",
    "list(path.parent.glob(\"[123].txt\"))"
   ]
  },
  {
   "cell_type": "code",
   "execution_count": 136,
   "id": "0d3ab016",
   "metadata": {},
   "outputs": [
    {
     "data": {
      "text/plain": [
       "[WindowsPath('C:/Users/Alex/Desktop/Courses/Python/libs/tests/1.txt'),\n",
       " WindowsPath('C:/Users/Alex/Desktop/Courses/Python/libs/tests/new_directory/1.txt'),\n",
       " WindowsPath('C:/Users/Alex/Desktop/Courses/Python/libs/tests/new_directory/1/2/3/1.txt')]"
      ]
     },
     "execution_count": 136,
     "metadata": {},
     "output_type": "execute_result"
    }
   ],
   "source": [
    "# recursive\n",
    "list(path.parent.glob(\"**/*.txt\"))"
   ]
  },
  {
   "cell_type": "code",
   "execution_count": 138,
   "id": "ea81caa0",
   "metadata": {},
   "outputs": [
    {
     "data": {
      "text/plain": [
       "[WindowsPath('C:/Users/Alex/Desktop/Courses/Python/libs/tests/1.txt'),\n",
       " WindowsPath('C:/Users/Alex/Desktop/Courses/Python/libs/tests/new_directory/1.txt'),\n",
       " WindowsPath('C:/Users/Alex/Desktop/Courses/Python/libs/tests/new_directory/1/2/3/1.txt')]"
      ]
     },
     "execution_count": 138,
     "metadata": {},
     "output_type": "execute_result"
    }
   ],
   "source": [
    "# recursive other way\n",
    "list(path.parent.rglob(\"*.txt\"))"
   ]
  },
  {
   "cell_type": "markdown",
   "id": "ce4c43e8",
   "metadata": {},
   "source": [
    "#### Moving and Deleting Files and Folders"
   ]
  },
  {
   "cell_type": "code",
   "execution_count": 148,
   "id": "b91852dd",
   "metadata": {},
   "outputs": [
    {
     "name": "stdout",
     "output_type": "stream",
     "text": [
      "C:\\Users\\Alex\\Desktop\\Courses\\Python\\libs\\tests\\1.txt\n"
     ]
    }
   ],
   "source": [
    "print(path)\n",
    "# To move a file or directory, use the .replace() method\n",
    "source = path\n",
    "destination = path.parent / \"new_directory\" / \"moved_file_1.txt\"\n",
    "if not destination.exists():\n",
    "    source.replace(destination)"
   ]
  },
  {
   "cell_type": "code",
   "execution_count": null,
   "id": "ac48e79e",
   "metadata": {},
   "outputs": [],
   "source": [
    "# be careful when replace hole directory! It's replace all destination directory content\n",
    "source = pathlib.Path(r\"C:\\Users\\Alex\\Desktop\\Courses\\Python\\libs\\tests\\source_dir\")\n",
    "destin = pathlib.Path(r\"C:\\Users\\Alex\\Desktop\\Courses\\Python\\libs\\tests\\source_dir_2\")\n",
    "source.replace(destination)"
   ]
  },
  {
   "cell_type": "markdown",
   "id": "ca9b60f5",
   "metadata": {},
   "source": [
    "delete file"
   ]
  },
  {
   "cell_type": "code",
   "execution_count": 186,
   "id": "577384bb",
   "metadata": {},
   "outputs": [],
   "source": [
    "file_path = destin / \"source_dir\" / \"1.txt\"\n",
    "file_path.unlink(missing_ok=True)"
   ]
  },
  {
   "cell_type": "markdown",
   "id": "6fa35b07",
   "metadata": {},
   "source": [
    "To remove a directory, use the .rmdir() method\n",
    "The folder must be empty, otherwise an OSError exception is raised"
   ]
  },
  {
   "cell_type": "code",
   "execution_count": 192,
   "id": "d2b50bac",
   "metadata": {},
   "outputs": [],
   "source": [
    "(destin / \"source_dir\").rmdir()"
   ]
  },
  {
   "cell_type": "markdown",
   "id": "b44f453c",
   "metadata": {},
   "source": [
    "delete all files"
   ]
  },
  {
   "cell_type": "code",
   "execution_count": null,
   "id": "b1a76a6d",
   "metadata": {},
   "outputs": [],
   "source": [
    "for path in destin.iterdir():\n",
    "    path.unlink()"
   ]
  },
  {
   "cell_type": "markdown",
   "id": "dd612ffc",
   "metadata": {},
   "source": [
    "If you need to delete an entire directory you can use the rmtree() function from the built-in shutil module"
   ]
  },
  {
   "cell_type": "code",
   "execution_count": null,
   "id": "bd85f8f3",
   "metadata": {},
   "outputs": [],
   "source": [
    "import shutil\n",
    "\n",
    "shutil.rmtree(folder_a)"
   ]
  },
  {
   "cell_type": "markdown",
   "id": "7e11a8f6",
   "metadata": {},
   "source": [
    "#### Reading and Writing Files"
   ]
  },
  {
   "cell_type": "code",
   "execution_count": null,
   "id": "9a308669",
   "metadata": {},
   "outputs": [],
   "source": []
  }
 ],
 "metadata": {
  "kernelspec": {
   "display_name": "Python 3 (ipykernel)",
   "language": "python",
   "name": "python3"
  },
  "language_info": {
   "codemirror_mode": {
    "name": "ipython",
    "version": 3
   },
   "file_extension": ".py",
   "mimetype": "text/x-python",
   "name": "python",
   "nbconvert_exporter": "python",
   "pygments_lexer": "ipython3",
   "version": "3.10.11"
  }
 },
 "nbformat": 4,
 "nbformat_minor": 5
}
