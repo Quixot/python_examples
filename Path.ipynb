{
 "cells": [
  {
   "cell_type": "code",
   "execution_count": 1,
   "id": "a5d3de30",
   "metadata": {},
   "outputs": [],
   "source": [
    "import pathlib"
   ]
  },
  {
   "cell_type": "code",
   "execution_count": 9,
   "id": "9d8569db",
   "metadata": {},
   "outputs": [
    {
     "data": {
      "text/plain": [
       "WindowsPath('C:/Users/Alex')"
      ]
     },
     "execution_count": 9,
     "metadata": {},
     "output_type": "execute_result"
    }
   ],
   "source": [
    "pathlib.Path.home()"
   ]
  },
  {
   "cell_type": "markdown",
   "id": "3946ac52",
   "metadata": {},
   "source": [
    "current working directory"
   ]
  },
  {
   "cell_type": "code",
   "execution_count": 4,
   "id": "a6fa2089",
   "metadata": {},
   "outputs": [
    {
     "data": {
      "text/plain": [
       "WindowsPath('C:/Users/Alex')"
      ]
     },
     "execution_count": 4,
     "metadata": {},
     "output_type": "execute_result"
    }
   ],
   "source": [
    "pathlib.Path.cwd()"
   ]
  },
  {
   "cell_type": "markdown",
   "id": "b29bd436",
   "metadata": {},
   "source": [
    "r - ignore all escapes in string"
   ]
  },
  {
   "cell_type": "code",
   "execution_count": 17,
   "id": "171ee23e",
   "metadata": {},
   "outputs": [
    {
     "name": "stdout",
     "output_type": "stream",
     "text": [
      "Hello\n",
      "World!\n"
     ]
    }
   ],
   "source": [
    "print(\"Hello\\nWorld!\")"
   ]
  },
  {
   "cell_type": "code",
   "execution_count": 16,
   "id": "ebb381ed",
   "metadata": {},
   "outputs": [
    {
     "name": "stdout",
     "output_type": "stream",
     "text": [
      "Hello\\nWorld!\n"
     ]
    }
   ],
   "source": [
    "print(r\"Hello\\nWorld!\")"
   ]
  },
  {
   "cell_type": "code",
   "execution_count": 8,
   "id": "1c7d3bbe",
   "metadata": {},
   "outputs": [
    {
     "data": {
      "text/plain": [
       "WindowsPath('C:/Users/Alex/Desktop/Courses/Python/libs/tests')"
      ]
     },
     "execution_count": 8,
     "metadata": {},
     "output_type": "execute_result"
    }
   ],
   "source": [
    "pathlib.Path(r\"C:\\Users\\Alex\\Desktop\\Courses\\Python\\libs\\tests\")"
   ]
  },
  {
   "cell_type": "code",
   "execution_count": 78,
   "id": "6c3286dc",
   "metadata": {},
   "outputs": [
    {
     "data": {
      "text/plain": [
       "WindowsPath('C:/Users/Alex/Desktop/Courses/Python/libs/tests/1.txt')"
      ]
     },
     "execution_count": 78,
     "metadata": {},
     "output_type": "execute_result"
    }
   ],
   "source": [
    "pathlib.Path.cwd() / \"tests\" / \"1.txt\""
   ]
  },
  {
   "cell_type": "code",
   "execution_count": 23,
   "id": "2816bf5b",
   "metadata": {},
   "outputs": [
    {
     "name": "stdout",
     "output_type": "stream",
     "text": [
      "True\n",
      "False\n"
     ]
    }
   ],
   "source": [
    "path = pathlib.Path.cwd() / \"tests\" / \"1.txt\"\n",
    "print(path.is_absolute())\n",
    "path = pathlib.Path(\"tesets/1.txt\")\n",
    "print(path.is_absolute())"
   ]
  },
  {
   "cell_type": "markdown",
   "id": "601af950",
   "metadata": {},
   "source": [
    "#### Accessing File Path Components"
   ]
  },
  {
   "cell_type": "code",
   "execution_count": 82,
   "id": "794086cd",
   "metadata": {},
   "outputs": [],
   "source": [
    "path = pathlib.Path.cwd() / \"Desktop\" / \"Courses\" / \"Python\" / \"libs\" / \"tests\" / \"1.txt\""
   ]
  },
  {
   "cell_type": "code",
   "execution_count": 55,
   "id": "1bb996d7",
   "metadata": {},
   "outputs": [
    {
     "data": {
      "text/plain": [
       "[WindowsPath('C:/Users/Alex/tests'),\n",
       " WindowsPath('C:/Users/Alex'),\n",
       " WindowsPath('C:/Users'),\n",
       " WindowsPath('C:/')]"
      ]
     },
     "execution_count": 55,
     "metadata": {},
     "output_type": "execute_result"
    }
   ],
   "source": [
    "list(path.parents)"
   ]
  },
  {
   "cell_type": "code",
   "execution_count": 60,
   "id": "a3a593ee",
   "metadata": {},
   "outputs": [
    {
     "data": {
      "text/plain": [
       "WindowsPath('C:/Users/Alex/tests')"
      ]
     },
     "execution_count": 60,
     "metadata": {},
     "output_type": "execute_result"
    }
   ],
   "source": [
    "t = (x for x in path.parents)\n",
    "next(t)"
   ]
  },
  {
   "cell_type": "markdown",
   "id": "796bbd62",
   "metadata": {},
   "source": [
    "root directory"
   ]
  },
  {
   "cell_type": "code",
   "execution_count": 61,
   "id": "a3287952",
   "metadata": {},
   "outputs": [
    {
     "data": {
      "text/plain": [
       "'C:\\\\'"
      ]
     },
     "execution_count": 61,
     "metadata": {},
     "output_type": "execute_result"
    }
   ],
   "source": [
    "# get root\n",
    "path.anchor"
   ]
  },
  {
   "cell_type": "code",
   "execution_count": 63,
   "id": "5b437b2e",
   "metadata": {},
   "outputs": [
    {
     "data": {
      "text/plain": [
       "WindowsPath('C:/Users/Alex/tests')"
      ]
     },
     "execution_count": 63,
     "metadata": {},
     "output_type": "execute_result"
    }
   ],
   "source": [
    "# get parent\n",
    "path.parent"
   ]
  },
  {
   "cell_type": "code",
   "execution_count": 66,
   "id": "ea60e856",
   "metadata": {},
   "outputs": [
    {
     "data": {
      "text/plain": [
       "WindowsPath('C:/Users')"
      ]
     },
     "execution_count": 66,
     "metadata": {},
     "output_type": "execute_result"
    }
   ],
   "source": [
    "# functional style\n",
    "path.parent.parent.parent"
   ]
  },
  {
   "cell_type": "code",
   "execution_count": 71,
   "id": "a25b42d6",
   "metadata": {},
   "outputs": [
    {
     "data": {
      "text/plain": [
       "'1.txt'"
      ]
     },
     "execution_count": 71,
     "metadata": {},
     "output_type": "execute_result"
    }
   ],
   "source": [
    "#  the name of the file or directory that the path points to\n",
    "path.name"
   ]
  },
  {
   "cell_type": "code",
   "execution_count": 74,
   "id": "a0b25db9",
   "metadata": {},
   "outputs": [
    {
     "name": "stdout",
     "output_type": "stream",
     "text": [
      "1\n",
      ".txt\n"
     ]
    }
   ],
   "source": [
    "print(path.stem)\n",
    "print(path.suffix)"
   ]
  },
  {
   "cell_type": "markdown",
   "id": "2d73308c",
   "metadata": {},
   "source": [
    "#### Checking Whether Or Not a File Path Exists"
   ]
  },
  {
   "cell_type": "code",
   "execution_count": 85,
   "id": "dcc1be88",
   "metadata": {},
   "outputs": [
    {
     "name": "stdout",
     "output_type": "stream",
     "text": [
      "C:\\Users\\Alex\\Desktop\\Courses\\Python\\libs\\tests\\1.txt\n"
     ]
    },
    {
     "data": {
      "text/plain": [
       "True"
      ]
     },
     "execution_count": 85,
     "metadata": {},
     "output_type": "execute_result"
    }
   ],
   "source": [
    "print(path)\n",
    "path.exists()"
   ]
  },
  {
   "cell_type": "code",
   "execution_count": 87,
   "id": "bfaf03fd",
   "metadata": {},
   "outputs": [
    {
     "data": {
      "text/plain": [
       "True"
      ]
     },
     "execution_count": 87,
     "metadata": {},
     "output_type": "execute_result"
    }
   ],
   "source": [
    "path.is_file()"
   ]
  },
  {
   "cell_type": "code",
   "execution_count": 88,
   "id": "bd72f11b",
   "metadata": {},
   "outputs": [
    {
     "data": {
      "text/plain": [
       "False"
      ]
     },
     "execution_count": 88,
     "metadata": {},
     "output_type": "execute_result"
    }
   ],
   "source": [
    "path.is_dir()"
   ]
  },
  {
   "cell_type": "markdown",
   "id": "482a0bb7",
   "metadata": {},
   "source": [
    "#### Creating Directories and Files"
   ]
  },
  {
   "cell_type": "code",
   "execution_count": 95,
   "id": "941ccd13",
   "metadata": {},
   "outputs": [],
   "source": [
    "from pathlib import Path\n",
    "\n",
    "new_dir = pathlib.Path.cwd() / r\"Desktop\\Courses\\Python\\libs\\tests\\new_directory\"\n",
    "new_dir.mkdir(exist_ok=True)"
   ]
  },
  {
   "cell_type": "code",
   "execution_count": 97,
   "id": "987fc9fd",
   "metadata": {},
   "outputs": [],
   "source": [
    "# create parents directories too\n",
    "new_dir_with_parents = pathlib.Path.cwd() / r\"Desktop\\Courses\\Python\\libs\\tests\\new_directory\" / \"1\" / \"2\" / \"3\"\n",
    "new_dir_with_parents.mkdir(exist_ok=True, parents=True)"
   ]
  },
  {
   "cell_type": "code",
   "execution_count": 101,
   "id": "ae9fdf5b",
   "metadata": {},
   "outputs": [],
   "source": [
    "my_file = new_dir_with_parents / \"1.txt\"\n",
    "my_file.touch()"
   ]
  },
  {
   "cell_type": "code",
   "execution_count": 105,
   "id": "a5626568",
   "metadata": {},
   "outputs": [
    {
     "data": {
      "text/plain": [
       "[WindowsPath('C:/Users/Alex/Desktop/Courses/Python/libs/tests/1.txt'),\n",
       " WindowsPath('C:/Users/Alex/Desktop/Courses/Python/libs/tests/new_directory')]"
      ]
     },
     "execution_count": 105,
     "metadata": {},
     "output_type": "execute_result"
    }
   ],
   "source": [
    "list(path.parent.iterdir())"
   ]
  },
  {
   "cell_type": "markdown",
   "id": "6e90c008",
   "metadata": {},
   "source": [
    "#### Searching For Files In a Directory"
   ]
  },
  {
   "cell_type": "code",
   "execution_count": null,
   "id": "02e5410c",
   "metadata": {},
   "outputs": [],
   "source": []
  }
 ],
 "metadata": {
  "kernelspec": {
   "display_name": "Python 3 (ipykernel)",
   "language": "python",
   "name": "python3"
  },
  "language_info": {
   "codemirror_mode": {
    "name": "ipython",
    "version": 3
   },
   "file_extension": ".py",
   "mimetype": "text/x-python",
   "name": "python",
   "nbconvert_exporter": "python",
   "pygments_lexer": "ipython3",
   "version": "3.10.11"
  }
 },
 "nbformat": 4,
 "nbformat_minor": 5
}
